{
 "cells": [
  {
   "cell_type": "code",
   "execution_count": 2,
   "metadata": {
    "_cell_guid": "b1076dfc-b9ad-4769-8c92-a6c4dae69d19",
    "_uuid": "8f2839f25d086af736a60e9eeb907d3b93b6e0e5",
    "execution": {
     "iopub.execute_input": "2024-11-03T15:15:48.885619Z",
     "iopub.status.busy": "2024-11-03T15:15:48.885006Z",
     "iopub.status.idle": "2024-11-03T15:15:50.342447Z",
     "shell.execute_reply": "2024-11-03T15:15:50.341194Z",
     "shell.execute_reply.started": "2024-11-03T15:15:48.885569Z"
    }
   },
   "outputs": [],
   "source": [
    "# This Python 3 environment comes with many helpful analytics libraries installed\n",
    "# It is defined by the kaggle/python Docker image: https://github.com/kaggle/docker-python\n",
    "# For example, here's several helpful packages to load\n",
    "\n",
    "import numpy as np # linear algebra\n",
    "import pandas as pd # data processing, CSV file I/O (e.g. pd.read_csv)\n",
    "\n",
    "# Input data files are available in the read-only \"../input/\" directory\n",
    "# For example, running this (by clicking run or pressing Shift+Enter) will list all files under the input directory\n",
    "\n",
    "import os\n",
    "for dirname, _, filenames in os.walk('/kaggle/input'):\n",
    "    for filename in filenames:\n",
    "        print(os.path.join(dirname, filename))\n",
    "\n",
    "# You can write up to 20GB to the current directory (/kaggle/working/) that gets preserved as output when you create a version using \"Save & Run All\" \n",
    "# You can also write temporary files to /kaggle/temp/, but they won't be saved outside of the current session"
   ]
  },
  {
   "cell_type": "code",
   "execution_count": 3,
   "metadata": {
    "execution": {
     "iopub.execute_input": "2024-11-03T15:16:10.234615Z",
     "iopub.status.busy": "2024-11-03T15:16:10.234032Z",
     "iopub.status.idle": "2024-11-03T15:16:11.863820Z",
     "shell.execute_reply": "2024-11-03T15:16:11.862553Z",
     "shell.execute_reply.started": "2024-11-03T15:16:10.234572Z"
    }
   },
   "outputs": [
    {
     "ename": "FileNotFoundError",
     "evalue": "[Errno 2] No such file or directory: '/kaggle/input/data-science-job-postings-and-skills/job_skills.csv'",
     "output_type": "error",
     "traceback": [
      "\u001b[1;31m---------------------------------------------------------------------------\u001b[0m",
      "\u001b[1;31mFileNotFoundError\u001b[0m                         Traceback (most recent call last)",
      "Input \u001b[1;32mIn [3]\u001b[0m, in \u001b[0;36m<cell line: 1>\u001b[1;34m()\u001b[0m\n\u001b[1;32m----> 1\u001b[0m job_skills \u001b[38;5;241m=\u001b[39m \u001b[43mpd\u001b[49m\u001b[38;5;241;43m.\u001b[39;49m\u001b[43mread_csv\u001b[49m\u001b[43m(\u001b[49m\u001b[38;5;124;43m\"\u001b[39;49m\u001b[38;5;124;43m/kaggle/input/data-science-job-postings-and-skills/job_skills.csv\u001b[39;49m\u001b[38;5;124;43m\"\u001b[39;49m\u001b[43m)\u001b[49m\n\u001b[0;32m      2\u001b[0m job_summary \u001b[38;5;241m=\u001b[39m pd\u001b[38;5;241m.\u001b[39mread_csv(\u001b[38;5;124m\"\u001b[39m\u001b[38;5;124m/kaggle/input/data-science-job-postings-and-skills/job_summary.csv\u001b[39m\u001b[38;5;124m\"\u001b[39m)\n\u001b[0;32m      3\u001b[0m job_postings \u001b[38;5;241m=\u001b[39m pd\u001b[38;5;241m.\u001b[39mread_csv(\u001b[38;5;124m\"\u001b[39m\u001b[38;5;124m/kaggle/input/data-science-job-postings-and-skills/job_postings.csv\u001b[39m\u001b[38;5;124m\"\u001b[39m)\n",
      "File \u001b[1;32m~\\anaconda3\\lib\\site-packages\\pandas\\util\\_decorators.py:211\u001b[0m, in \u001b[0;36mdeprecate_kwarg.<locals>._deprecate_kwarg.<locals>.wrapper\u001b[1;34m(*args, **kwargs)\u001b[0m\n\u001b[0;32m    209\u001b[0m     \u001b[38;5;28;01melse\u001b[39;00m:\n\u001b[0;32m    210\u001b[0m         kwargs[new_arg_name] \u001b[38;5;241m=\u001b[39m new_arg_value\n\u001b[1;32m--> 211\u001b[0m \u001b[38;5;28;01mreturn\u001b[39;00m func(\u001b[38;5;241m*\u001b[39margs, \u001b[38;5;241m*\u001b[39m\u001b[38;5;241m*\u001b[39mkwargs)\n",
      "File \u001b[1;32m~\\anaconda3\\lib\\site-packages\\pandas\\util\\_decorators.py:331\u001b[0m, in \u001b[0;36mdeprecate_nonkeyword_arguments.<locals>.decorate.<locals>.wrapper\u001b[1;34m(*args, **kwargs)\u001b[0m\n\u001b[0;32m    325\u001b[0m \u001b[38;5;28;01mif\u001b[39;00m \u001b[38;5;28mlen\u001b[39m(args) \u001b[38;5;241m>\u001b[39m num_allow_args:\n\u001b[0;32m    326\u001b[0m     warnings\u001b[38;5;241m.\u001b[39mwarn(\n\u001b[0;32m    327\u001b[0m         msg\u001b[38;5;241m.\u001b[39mformat(arguments\u001b[38;5;241m=\u001b[39m_format_argument_list(allow_args)),\n\u001b[0;32m    328\u001b[0m         \u001b[38;5;167;01mFutureWarning\u001b[39;00m,\n\u001b[0;32m    329\u001b[0m         stacklevel\u001b[38;5;241m=\u001b[39mfind_stack_level(),\n\u001b[0;32m    330\u001b[0m     )\n\u001b[1;32m--> 331\u001b[0m \u001b[38;5;28;01mreturn\u001b[39;00m func(\u001b[38;5;241m*\u001b[39margs, \u001b[38;5;241m*\u001b[39m\u001b[38;5;241m*\u001b[39mkwargs)\n",
      "File \u001b[1;32m~\\anaconda3\\lib\\site-packages\\pandas\\io\\parsers\\readers.py:950\u001b[0m, in \u001b[0;36mread_csv\u001b[1;34m(filepath_or_buffer, sep, delimiter, header, names, index_col, usecols, squeeze, prefix, mangle_dupe_cols, dtype, engine, converters, true_values, false_values, skipinitialspace, skiprows, skipfooter, nrows, na_values, keep_default_na, na_filter, verbose, skip_blank_lines, parse_dates, infer_datetime_format, keep_date_col, date_parser, dayfirst, cache_dates, iterator, chunksize, compression, thousands, decimal, lineterminator, quotechar, quoting, doublequote, escapechar, comment, encoding, encoding_errors, dialect, error_bad_lines, warn_bad_lines, on_bad_lines, delim_whitespace, low_memory, memory_map, float_precision, storage_options)\u001b[0m\n\u001b[0;32m    935\u001b[0m kwds_defaults \u001b[38;5;241m=\u001b[39m _refine_defaults_read(\n\u001b[0;32m    936\u001b[0m     dialect,\n\u001b[0;32m    937\u001b[0m     delimiter,\n\u001b[1;32m   (...)\u001b[0m\n\u001b[0;32m    946\u001b[0m     defaults\u001b[38;5;241m=\u001b[39m{\u001b[38;5;124m\"\u001b[39m\u001b[38;5;124mdelimiter\u001b[39m\u001b[38;5;124m\"\u001b[39m: \u001b[38;5;124m\"\u001b[39m\u001b[38;5;124m,\u001b[39m\u001b[38;5;124m\"\u001b[39m},\n\u001b[0;32m    947\u001b[0m )\n\u001b[0;32m    948\u001b[0m kwds\u001b[38;5;241m.\u001b[39mupdate(kwds_defaults)\n\u001b[1;32m--> 950\u001b[0m \u001b[38;5;28;01mreturn\u001b[39;00m \u001b[43m_read\u001b[49m\u001b[43m(\u001b[49m\u001b[43mfilepath_or_buffer\u001b[49m\u001b[43m,\u001b[49m\u001b[43m \u001b[49m\u001b[43mkwds\u001b[49m\u001b[43m)\u001b[49m\n",
      "File \u001b[1;32m~\\anaconda3\\lib\\site-packages\\pandas\\io\\parsers\\readers.py:605\u001b[0m, in \u001b[0;36m_read\u001b[1;34m(filepath_or_buffer, kwds)\u001b[0m\n\u001b[0;32m    602\u001b[0m _validate_names(kwds\u001b[38;5;241m.\u001b[39mget(\u001b[38;5;124m\"\u001b[39m\u001b[38;5;124mnames\u001b[39m\u001b[38;5;124m\"\u001b[39m, \u001b[38;5;28;01mNone\u001b[39;00m))\n\u001b[0;32m    604\u001b[0m \u001b[38;5;66;03m# Create the parser.\u001b[39;00m\n\u001b[1;32m--> 605\u001b[0m parser \u001b[38;5;241m=\u001b[39m TextFileReader(filepath_or_buffer, \u001b[38;5;241m*\u001b[39m\u001b[38;5;241m*\u001b[39mkwds)\n\u001b[0;32m    607\u001b[0m \u001b[38;5;28;01mif\u001b[39;00m chunksize \u001b[38;5;129;01mor\u001b[39;00m iterator:\n\u001b[0;32m    608\u001b[0m     \u001b[38;5;28;01mreturn\u001b[39;00m parser\n",
      "File \u001b[1;32m~\\anaconda3\\lib\\site-packages\\pandas\\io\\parsers\\readers.py:1442\u001b[0m, in \u001b[0;36mTextFileReader.__init__\u001b[1;34m(self, f, engine, **kwds)\u001b[0m\n\u001b[0;32m   1439\u001b[0m     \u001b[38;5;28mself\u001b[39m\u001b[38;5;241m.\u001b[39moptions[\u001b[38;5;124m\"\u001b[39m\u001b[38;5;124mhas_index_names\u001b[39m\u001b[38;5;124m\"\u001b[39m] \u001b[38;5;241m=\u001b[39m kwds[\u001b[38;5;124m\"\u001b[39m\u001b[38;5;124mhas_index_names\u001b[39m\u001b[38;5;124m\"\u001b[39m]\n\u001b[0;32m   1441\u001b[0m \u001b[38;5;28mself\u001b[39m\u001b[38;5;241m.\u001b[39mhandles: IOHandles \u001b[38;5;241m|\u001b[39m \u001b[38;5;28;01mNone\u001b[39;00m \u001b[38;5;241m=\u001b[39m \u001b[38;5;28;01mNone\u001b[39;00m\n\u001b[1;32m-> 1442\u001b[0m \u001b[38;5;28mself\u001b[39m\u001b[38;5;241m.\u001b[39m_engine \u001b[38;5;241m=\u001b[39m \u001b[38;5;28;43mself\u001b[39;49m\u001b[38;5;241;43m.\u001b[39;49m\u001b[43m_make_engine\u001b[49m\u001b[43m(\u001b[49m\u001b[43mf\u001b[49m\u001b[43m,\u001b[49m\u001b[43m \u001b[49m\u001b[38;5;28;43mself\u001b[39;49m\u001b[38;5;241;43m.\u001b[39;49m\u001b[43mengine\u001b[49m\u001b[43m)\u001b[49m\n",
      "File \u001b[1;32m~\\anaconda3\\lib\\site-packages\\pandas\\io\\parsers\\readers.py:1735\u001b[0m, in \u001b[0;36mTextFileReader._make_engine\u001b[1;34m(self, f, engine)\u001b[0m\n\u001b[0;32m   1733\u001b[0m     \u001b[38;5;28;01mif\u001b[39;00m \u001b[38;5;124m\"\u001b[39m\u001b[38;5;124mb\u001b[39m\u001b[38;5;124m\"\u001b[39m \u001b[38;5;129;01mnot\u001b[39;00m \u001b[38;5;129;01min\u001b[39;00m mode:\n\u001b[0;32m   1734\u001b[0m         mode \u001b[38;5;241m+\u001b[39m\u001b[38;5;241m=\u001b[39m \u001b[38;5;124m\"\u001b[39m\u001b[38;5;124mb\u001b[39m\u001b[38;5;124m\"\u001b[39m\n\u001b[1;32m-> 1735\u001b[0m \u001b[38;5;28mself\u001b[39m\u001b[38;5;241m.\u001b[39mhandles \u001b[38;5;241m=\u001b[39m \u001b[43mget_handle\u001b[49m\u001b[43m(\u001b[49m\n\u001b[0;32m   1736\u001b[0m \u001b[43m    \u001b[49m\u001b[43mf\u001b[49m\u001b[43m,\u001b[49m\n\u001b[0;32m   1737\u001b[0m \u001b[43m    \u001b[49m\u001b[43mmode\u001b[49m\u001b[43m,\u001b[49m\n\u001b[0;32m   1738\u001b[0m \u001b[43m    \u001b[49m\u001b[43mencoding\u001b[49m\u001b[38;5;241;43m=\u001b[39;49m\u001b[38;5;28;43mself\u001b[39;49m\u001b[38;5;241;43m.\u001b[39;49m\u001b[43moptions\u001b[49m\u001b[38;5;241;43m.\u001b[39;49m\u001b[43mget\u001b[49m\u001b[43m(\u001b[49m\u001b[38;5;124;43m\"\u001b[39;49m\u001b[38;5;124;43mencoding\u001b[39;49m\u001b[38;5;124;43m\"\u001b[39;49m\u001b[43m,\u001b[49m\u001b[43m \u001b[49m\u001b[38;5;28;43;01mNone\u001b[39;49;00m\u001b[43m)\u001b[49m\u001b[43m,\u001b[49m\n\u001b[0;32m   1739\u001b[0m \u001b[43m    \u001b[49m\u001b[43mcompression\u001b[49m\u001b[38;5;241;43m=\u001b[39;49m\u001b[38;5;28;43mself\u001b[39;49m\u001b[38;5;241;43m.\u001b[39;49m\u001b[43moptions\u001b[49m\u001b[38;5;241;43m.\u001b[39;49m\u001b[43mget\u001b[49m\u001b[43m(\u001b[49m\u001b[38;5;124;43m\"\u001b[39;49m\u001b[38;5;124;43mcompression\u001b[39;49m\u001b[38;5;124;43m\"\u001b[39;49m\u001b[43m,\u001b[49m\u001b[43m \u001b[49m\u001b[38;5;28;43;01mNone\u001b[39;49;00m\u001b[43m)\u001b[49m\u001b[43m,\u001b[49m\n\u001b[0;32m   1740\u001b[0m \u001b[43m    \u001b[49m\u001b[43mmemory_map\u001b[49m\u001b[38;5;241;43m=\u001b[39;49m\u001b[38;5;28;43mself\u001b[39;49m\u001b[38;5;241;43m.\u001b[39;49m\u001b[43moptions\u001b[49m\u001b[38;5;241;43m.\u001b[39;49m\u001b[43mget\u001b[49m\u001b[43m(\u001b[49m\u001b[38;5;124;43m\"\u001b[39;49m\u001b[38;5;124;43mmemory_map\u001b[39;49m\u001b[38;5;124;43m\"\u001b[39;49m\u001b[43m,\u001b[49m\u001b[43m \u001b[49m\u001b[38;5;28;43;01mFalse\u001b[39;49;00m\u001b[43m)\u001b[49m\u001b[43m,\u001b[49m\n\u001b[0;32m   1741\u001b[0m \u001b[43m    \u001b[49m\u001b[43mis_text\u001b[49m\u001b[38;5;241;43m=\u001b[39;49m\u001b[43mis_text\u001b[49m\u001b[43m,\u001b[49m\n\u001b[0;32m   1742\u001b[0m \u001b[43m    \u001b[49m\u001b[43merrors\u001b[49m\u001b[38;5;241;43m=\u001b[39;49m\u001b[38;5;28;43mself\u001b[39;49m\u001b[38;5;241;43m.\u001b[39;49m\u001b[43moptions\u001b[49m\u001b[38;5;241;43m.\u001b[39;49m\u001b[43mget\u001b[49m\u001b[43m(\u001b[49m\u001b[38;5;124;43m\"\u001b[39;49m\u001b[38;5;124;43mencoding_errors\u001b[39;49m\u001b[38;5;124;43m\"\u001b[39;49m\u001b[43m,\u001b[49m\u001b[43m \u001b[49m\u001b[38;5;124;43m\"\u001b[39;49m\u001b[38;5;124;43mstrict\u001b[39;49m\u001b[38;5;124;43m\"\u001b[39;49m\u001b[43m)\u001b[49m\u001b[43m,\u001b[49m\n\u001b[0;32m   1743\u001b[0m \u001b[43m    \u001b[49m\u001b[43mstorage_options\u001b[49m\u001b[38;5;241;43m=\u001b[39;49m\u001b[38;5;28;43mself\u001b[39;49m\u001b[38;5;241;43m.\u001b[39;49m\u001b[43moptions\u001b[49m\u001b[38;5;241;43m.\u001b[39;49m\u001b[43mget\u001b[49m\u001b[43m(\u001b[49m\u001b[38;5;124;43m\"\u001b[39;49m\u001b[38;5;124;43mstorage_options\u001b[39;49m\u001b[38;5;124;43m\"\u001b[39;49m\u001b[43m,\u001b[49m\u001b[43m \u001b[49m\u001b[38;5;28;43;01mNone\u001b[39;49;00m\u001b[43m)\u001b[49m\u001b[43m,\u001b[49m\n\u001b[0;32m   1744\u001b[0m \u001b[43m\u001b[49m\u001b[43m)\u001b[49m\n\u001b[0;32m   1745\u001b[0m \u001b[38;5;28;01massert\u001b[39;00m \u001b[38;5;28mself\u001b[39m\u001b[38;5;241m.\u001b[39mhandles \u001b[38;5;129;01mis\u001b[39;00m \u001b[38;5;129;01mnot\u001b[39;00m \u001b[38;5;28;01mNone\u001b[39;00m\n\u001b[0;32m   1746\u001b[0m f \u001b[38;5;241m=\u001b[39m \u001b[38;5;28mself\u001b[39m\u001b[38;5;241m.\u001b[39mhandles\u001b[38;5;241m.\u001b[39mhandle\n",
      "File \u001b[1;32m~\\anaconda3\\lib\\site-packages\\pandas\\io\\common.py:856\u001b[0m, in \u001b[0;36mget_handle\u001b[1;34m(path_or_buf, mode, encoding, compression, memory_map, is_text, errors, storage_options)\u001b[0m\n\u001b[0;32m    851\u001b[0m \u001b[38;5;28;01melif\u001b[39;00m \u001b[38;5;28misinstance\u001b[39m(handle, \u001b[38;5;28mstr\u001b[39m):\n\u001b[0;32m    852\u001b[0m     \u001b[38;5;66;03m# Check whether the filename is to be opened in binary mode.\u001b[39;00m\n\u001b[0;32m    853\u001b[0m     \u001b[38;5;66;03m# Binary mode does not support 'encoding' and 'newline'.\u001b[39;00m\n\u001b[0;32m    854\u001b[0m     \u001b[38;5;28;01mif\u001b[39;00m ioargs\u001b[38;5;241m.\u001b[39mencoding \u001b[38;5;129;01mand\u001b[39;00m \u001b[38;5;124m\"\u001b[39m\u001b[38;5;124mb\u001b[39m\u001b[38;5;124m\"\u001b[39m \u001b[38;5;129;01mnot\u001b[39;00m \u001b[38;5;129;01min\u001b[39;00m ioargs\u001b[38;5;241m.\u001b[39mmode:\n\u001b[0;32m    855\u001b[0m         \u001b[38;5;66;03m# Encoding\u001b[39;00m\n\u001b[1;32m--> 856\u001b[0m         handle \u001b[38;5;241m=\u001b[39m \u001b[38;5;28;43mopen\u001b[39;49m\u001b[43m(\u001b[49m\n\u001b[0;32m    857\u001b[0m \u001b[43m            \u001b[49m\u001b[43mhandle\u001b[49m\u001b[43m,\u001b[49m\n\u001b[0;32m    858\u001b[0m \u001b[43m            \u001b[49m\u001b[43mioargs\u001b[49m\u001b[38;5;241;43m.\u001b[39;49m\u001b[43mmode\u001b[49m\u001b[43m,\u001b[49m\n\u001b[0;32m    859\u001b[0m \u001b[43m            \u001b[49m\u001b[43mencoding\u001b[49m\u001b[38;5;241;43m=\u001b[39;49m\u001b[43mioargs\u001b[49m\u001b[38;5;241;43m.\u001b[39;49m\u001b[43mencoding\u001b[49m\u001b[43m,\u001b[49m\n\u001b[0;32m    860\u001b[0m \u001b[43m            \u001b[49m\u001b[43merrors\u001b[49m\u001b[38;5;241;43m=\u001b[39;49m\u001b[43merrors\u001b[49m\u001b[43m,\u001b[49m\n\u001b[0;32m    861\u001b[0m \u001b[43m            \u001b[49m\u001b[43mnewline\u001b[49m\u001b[38;5;241;43m=\u001b[39;49m\u001b[38;5;124;43m\"\u001b[39;49m\u001b[38;5;124;43m\"\u001b[39;49m\u001b[43m,\u001b[49m\n\u001b[0;32m    862\u001b[0m \u001b[43m        \u001b[49m\u001b[43m)\u001b[49m\n\u001b[0;32m    863\u001b[0m     \u001b[38;5;28;01melse\u001b[39;00m:\n\u001b[0;32m    864\u001b[0m         \u001b[38;5;66;03m# Binary mode\u001b[39;00m\n\u001b[0;32m    865\u001b[0m         handle \u001b[38;5;241m=\u001b[39m \u001b[38;5;28mopen\u001b[39m(handle, ioargs\u001b[38;5;241m.\u001b[39mmode)\n",
      "\u001b[1;31mFileNotFoundError\u001b[0m: [Errno 2] No such file or directory: '/kaggle/input/data-science-job-postings-and-skills/job_skills.csv'"
     ]
    }
   ],
   "source": [
    "job_skills = pd.read_csv(\"/kaggle/input/data-science-job-postings-and-skills/job_skills.csv\")\n",
    "job_summary = pd.read_csv(\"/kaggle/input/data-science-job-postings-and-skills/job_summary.csv\")\n",
    "job_postings = pd.read_csv(\"/kaggle/input/data-science-job-postings-and-skills/job_postings.csv\")"
   ]
  },
  {
   "cell_type": "code",
   "execution_count": null,
   "metadata": {
    "execution": {
     "iopub.execute_input": "2024-11-03T15:16:30.886479Z",
     "iopub.status.busy": "2024-11-03T15:16:30.886052Z",
     "iopub.status.idle": "2024-11-03T15:16:30.910267Z",
     "shell.execute_reply": "2024-11-03T15:16:30.908730Z",
     "shell.execute_reply.started": "2024-11-03T15:16:30.886438Z"
    }
   },
   "outputs": [],
   "source": [
    "job_skills.head()"
   ]
  },
  {
   "cell_type": "code",
   "execution_count": null,
   "metadata": {
    "execution": {
     "iopub.execute_input": "2024-11-03T15:16:36.720576Z",
     "iopub.status.busy": "2024-11-03T15:16:36.720104Z",
     "iopub.status.idle": "2024-11-03T15:16:36.733102Z",
     "shell.execute_reply": "2024-11-03T15:16:36.731712Z",
     "shell.execute_reply.started": "2024-11-03T15:16:36.720533Z"
    }
   },
   "outputs": [],
   "source": [
    "job_summary.head()"
   ]
  },
  {
   "cell_type": "code",
   "execution_count": null,
   "metadata": {
    "execution": {
     "iopub.execute_input": "2024-11-03T15:16:43.161450Z",
     "iopub.status.busy": "2024-11-03T15:16:43.161023Z",
     "iopub.status.idle": "2024-11-03T15:16:43.179697Z",
     "shell.execute_reply": "2024-11-03T15:16:43.178404Z",
     "shell.execute_reply.started": "2024-11-03T15:16:43.161410Z"
    }
   },
   "outputs": [],
   "source": [
    "job_postings.head()"
   ]
  },
  {
   "cell_type": "code",
   "execution_count": null,
   "metadata": {
    "execution": {
     "iopub.execute_input": "2024-11-03T15:18:22.763489Z",
     "iopub.status.busy": "2024-11-03T15:18:22.763028Z",
     "iopub.status.idle": "2024-11-03T15:18:22.805073Z",
     "shell.execute_reply": "2024-11-03T15:18:22.803770Z",
     "shell.execute_reply.started": "2024-11-03T15:18:22.763445Z"
    }
   },
   "outputs": [],
   "source": [
    "job_skills_position = job_skills.merge(job_postings, on = 'job_link')\n",
    "job_skills_position"
   ]
  },
  {
   "cell_type": "code",
   "execution_count": null,
   "metadata": {
    "execution": {
     "iopub.execute_input": "2024-11-03T15:19:16.893572Z",
     "iopub.status.busy": "2024-11-03T15:19:16.892732Z",
     "iopub.status.idle": "2024-11-03T15:19:16.899780Z",
     "shell.execute_reply": "2024-11-03T15:19:16.898638Z",
     "shell.execute_reply.started": "2024-11-03T15:19:16.893526Z"
    }
   },
   "outputs": [],
   "source": [
    "print(job_skills_position['job_link'].head())"
   ]
  },
  {
   "cell_type": "code",
   "execution_count": null,
   "metadata": {
    "execution": {
     "iopub.execute_input": "2024-11-03T15:21:33.850139Z",
     "iopub.status.busy": "2024-11-03T15:21:33.849580Z",
     "iopub.status.idle": "2024-11-03T15:21:33.887132Z",
     "shell.execute_reply": "2024-11-03T15:21:33.885780Z",
     "shell.execute_reply.started": "2024-11-03T15:21:33.850087Z"
    }
   },
   "outputs": [],
   "source": [
    "jobs = job_skills_position['job_link'].str.split('view').str[1].str.strip('/')\n",
    "jobs"
   ]
  },
  {
   "cell_type": "code",
   "execution_count": null,
   "metadata": {
    "execution": {
     "iopub.execute_input": "2024-11-03T15:22:58.837843Z",
     "iopub.status.busy": "2024-11-03T15:22:58.837439Z",
     "iopub.status.idle": "2024-11-03T15:22:58.857489Z",
     "shell.execute_reply": "2024-11-03T15:22:58.855933Z",
     "shell.execute_reply.started": "2024-11-03T15:22:58.837808Z"
    }
   },
   "outputs": [],
   "source": [
    "ds_jobs  = job_skills_position[['job_skills','job_title']]\n",
    "ds_jobs"
   ]
  },
  {
   "cell_type": "code",
   "execution_count": null,
   "metadata": {
    "execution": {
     "iopub.execute_input": "2024-11-03T15:27:58.627528Z",
     "iopub.status.busy": "2024-11-03T15:27:58.626265Z",
     "iopub.status.idle": "2024-11-03T15:27:58.644777Z",
     "shell.execute_reply": "2024-11-03T15:27:58.643479Z",
     "shell.execute_reply.started": "2024-11-03T15:27:58.627476Z"
    }
   },
   "outputs": [],
   "source": [
    "job_vals = ds_jobs['job_title'].value_counts()\n",
    "job_vals = job_vals[job_vals>30]\n",
    "job_vals"
   ]
  },
  {
   "cell_type": "code",
   "execution_count": null,
   "metadata": {
    "execution": {
     "iopub.execute_input": "2024-11-03T15:27:58.804932Z",
     "iopub.status.busy": "2024-11-03T15:27:58.804505Z",
     "iopub.status.idle": "2024-11-03T15:27:58.818987Z",
     "shell.execute_reply": "2024-11-03T15:27:58.817625Z",
     "shell.execute_reply.started": "2024-11-03T15:27:58.804892Z"
    }
   },
   "outputs": [],
   "source": [
    "job_vals  = pd.DataFrame(job_vals)\n",
    "job_vals.reset_index(inplace = True)\n",
    "job_vals"
   ]
  },
  {
   "cell_type": "code",
   "execution_count": null,
   "metadata": {
    "execution": {
     "iopub.execute_input": "2024-11-03T15:28:27.436548Z",
     "iopub.status.busy": "2024-11-03T15:28:27.436064Z",
     "iopub.status.idle": "2024-11-03T15:28:27.445630Z",
     "shell.execute_reply": "2024-11-03T15:28:27.444416Z",
     "shell.execute_reply.started": "2024-11-03T15:28:27.436505Z"
    }
   },
   "outputs": [],
   "source": [
    "job_title_list = list(job_vals['job_title'])\n",
    "job_title_list"
   ]
  },
  {
   "cell_type": "code",
   "execution_count": null,
   "metadata": {
    "execution": {
     "iopub.execute_input": "2024-11-03T16:12:31.889084Z",
     "iopub.status.busy": "2024-11-03T16:12:31.888634Z",
     "iopub.status.idle": "2024-11-03T16:12:31.894998Z",
     "shell.execute_reply": "2024-11-03T16:12:31.893808Z",
     "shell.execute_reply.started": "2024-11-03T16:12:31.889045Z"
    }
   },
   "outputs": [],
   "source": [
    "job_title_list = ['Senior Data Engineer',\n",
    " 'Senior Data Analyst',\n",
    " 'Data Engineer',\n",
    " 'Senior MLOps Engineer',\n",
    " 'Data Analyst',\n",
    " 'Data Scientist',\n",
    " 'Lead Data Engineer',\n",
    " 'Senior Data Scientist',\n",
    " 'Data Architect',\n",
    " 'Senior Machine Learning Engineer',\n",
    " 'Manager, Data Engineering',\n",
    " 'Senior Machine Learning Engineer - AI',\n",
    " 'Principal Associate, Data Loss Prevention (DLP) Engineer',\n",
    " 'Senior Database Administrator',\n",
    " 'Machine Learning Engineer',\n",
    " 'Lead Data Scientist',\n",
    " 'Sr. Data Engineer',\n",
    " 'Database Administrator',\n",
    " 'Senior Manager, Machine Learning Engineering',\n",
    " 'Lead Machine Learning Engineer',\n",
    "\n",
    " 'Manager, Cyber Risk & Analysis (Machine Learning)',\n",
    "\n",
    "]"
   ]
  },
  {
   "cell_type": "code",
   "execution_count": null,
   "metadata": {
    "execution": {
     "iopub.execute_input": "2024-11-03T16:12:32.227072Z",
     "iopub.status.busy": "2024-11-03T16:12:32.226663Z",
     "iopub.status.idle": "2024-11-03T16:12:32.245852Z",
     "shell.execute_reply": "2024-11-03T16:12:32.244579Z",
     "shell.execute_reply.started": "2024-11-03T16:12:32.227033Z"
    }
   },
   "outputs": [],
   "source": [
    "ds_jobs_cleaned = ds_jobs[ds_jobs['job_title'].isin(job_title_list) ]\n",
    "ds_jobs_cleaned.reset_index(inplace = True,drop = True)\n",
    "ds_jobs_cleaned"
   ]
  },
  {
   "cell_type": "code",
   "execution_count": null,
   "metadata": {
    "execution": {
     "iopub.execute_input": "2024-11-03T16:12:32.832587Z",
     "iopub.status.busy": "2024-11-03T16:12:32.832173Z",
     "iopub.status.idle": "2024-11-03T16:12:32.849948Z",
     "shell.execute_reply": "2024-11-03T16:12:32.848385Z",
     "shell.execute_reply.started": "2024-11-03T16:12:32.832550Z"
    }
   },
   "outputs": [],
   "source": [
    "ds_jobs_cleaned.drop_duplicates()"
   ]
  },
  {
   "cell_type": "code",
   "execution_count": null,
   "metadata": {
    "execution": {
     "iopub.execute_input": "2024-11-03T16:12:34.606463Z",
     "iopub.status.busy": "2024-11-03T16:12:34.605912Z",
     "iopub.status.idle": "2024-11-03T16:12:34.650110Z",
     "shell.execute_reply": "2024-11-03T16:12:34.648935Z",
     "shell.execute_reply.started": "2024-11-03T16:12:34.606415Z"
    }
   },
   "outputs": [],
   "source": [
    "ds_jobs_cleaned['job_skills'] = ds_jobs_cleaned['job_skills'].apply(\n",
    "    lambda x: x.split(', ') if isinstance(x, str) else x\n",
    ")\n",
    "\n",
    "\n",
    "\n",
    "ds_jobs_exploded = ds_jobs_cleaned.explode('job_skills').reset_index(drop = True)\n",
    "ds_jobs_exploded.columns = ['job_skills','job_title']\n",
    "ds_jobs_exploded"
   ]
  },
  {
   "cell_type": "code",
   "execution_count": null,
   "metadata": {
    "execution": {
     "iopub.execute_input": "2024-11-03T16:12:34.972156Z",
     "iopub.status.busy": "2024-11-03T16:12:34.971742Z",
     "iopub.status.idle": "2024-11-03T16:12:34.991805Z",
     "shell.execute_reply": "2024-11-03T16:12:34.990434Z",
     "shell.execute_reply.started": "2024-11-03T16:12:34.972116Z"
    }
   },
   "outputs": [],
   "source": [
    "ds_jobs_exploded.drop_duplicates(inplace = True)"
   ]
  },
  {
   "cell_type": "code",
   "execution_count": null,
   "metadata": {
    "execution": {
     "iopub.execute_input": "2024-11-03T16:12:35.240342Z",
     "iopub.status.busy": "2024-11-03T16:12:35.239940Z",
     "iopub.status.idle": "2024-11-03T16:12:35.248711Z",
     "shell.execute_reply": "2024-11-03T16:12:35.247524Z",
     "shell.execute_reply.started": "2024-11-03T16:12:35.240304Z"
    }
   },
   "outputs": [],
   "source": [
    "ds_jobs_exploded.reset_index(inplace = True, drop = True)"
   ]
  },
  {
   "cell_type": "code",
   "execution_count": null,
   "metadata": {
    "execution": {
     "iopub.execute_input": "2024-11-03T16:12:35.930231Z",
     "iopub.status.busy": "2024-11-03T16:12:35.929835Z",
     "iopub.status.idle": "2024-11-03T16:12:35.944321Z",
     "shell.execute_reply": "2024-11-03T16:12:35.943290Z",
     "shell.execute_reply.started": "2024-11-03T16:12:35.930191Z"
    }
   },
   "outputs": [],
   "source": [
    "ds_jobs_exploded"
   ]
  },
  {
   "cell_type": "code",
   "execution_count": null,
   "metadata": {
    "execution": {
     "iopub.execute_input": "2024-11-03T16:12:36.484538Z",
     "iopub.status.busy": "2024-11-03T16:12:36.483726Z",
     "iopub.status.idle": "2024-11-03T16:12:36.493394Z",
     "shell.execute_reply": "2024-11-03T16:12:36.491871Z",
     "shell.execute_reply.started": "2024-11-03T16:12:36.484489Z"
    }
   },
   "outputs": [],
   "source": [
    "\n",
    "\n",
    "skills_dict = {index: skill for index, skill in enumerate(job_title_list)}\n",
    "skills_dict"
   ]
  },
  {
   "cell_type": "code",
   "execution_count": null,
   "metadata": {
    "execution": {
     "iopub.execute_input": "2024-11-03T16:12:36.986701Z",
     "iopub.status.busy": "2024-11-03T16:12:36.986308Z",
     "iopub.status.idle": "2024-11-03T16:12:37.001750Z",
     "shell.execute_reply": "2024-11-03T16:12:37.000366Z",
     "shell.execute_reply.started": "2024-11-03T16:12:36.986665Z"
    }
   },
   "outputs": [],
   "source": [
    "skills_df = pd.Series(skills_dict)\n",
    "skills_df = pd.DataFrame(skills_df)\n",
    "skills_df.reset_index(inplace = True)\n",
    "skills_df.columns = ['Job_id','job_title']\n",
    "skills_df['Job_id'] = skills_df['Job_id']+1\n",
    "skills_df"
   ]
  },
  {
   "cell_type": "code",
   "execution_count": null,
   "metadata": {
    "execution": {
     "iopub.execute_input": "2024-11-03T16:12:37.535230Z",
     "iopub.status.busy": "2024-11-03T16:12:37.534170Z",
     "iopub.status.idle": "2024-11-03T16:12:37.553820Z",
     "shell.execute_reply": "2024-11-03T16:12:37.552532Z",
     "shell.execute_reply.started": "2024-11-03T16:12:37.535114Z"
    }
   },
   "outputs": [],
   "source": [
    "ds_jobs_exploded = ds_jobs_exploded.merge(skills_df,on='job_title')\n",
    "ds_jobs_exploded"
   ]
  },
  {
   "cell_type": "code",
   "execution_count": null,
   "metadata": {
    "execution": {
     "iopub.execute_input": "2024-11-03T16:12:38.120380Z",
     "iopub.status.busy": "2024-11-03T16:12:38.119938Z",
     "iopub.status.idle": "2024-11-03T16:12:38.133586Z",
     "shell.execute_reply": "2024-11-03T16:12:38.132177Z",
     "shell.execute_reply.started": "2024-11-03T16:12:38.120318Z"
    },
    "scrolled": true
   },
   "outputs": [],
   "source": [
    "ds_jobs_exploded"
   ]
  },
  {
   "cell_type": "code",
   "execution_count": null,
   "metadata": {},
   "outputs": [],
   "source": [
    "for i in ds_jobs_exploded:\n",
    "    print(i)"
   ]
  },
  {
   "cell_type": "code",
   "execution_count": null,
   "metadata": {
    "execution": {
     "iopub.execute_input": "2024-11-03T16:12:39.028773Z",
     "iopub.status.busy": "2024-11-03T16:12:39.028372Z",
     "iopub.status.idle": "2024-11-03T16:12:39.084990Z",
     "shell.execute_reply": "2024-11-03T16:12:39.083824Z",
     "shell.execute_reply.started": "2024-11-03T16:12:39.028737Z"
    }
   },
   "outputs": [],
   "source": [
    "ds_jobs_exploded.to_csv(\"DataScienceJobs.csv\")"
   ]
  },
  {
   "cell_type": "code",
   "execution_count": null,
   "metadata": {},
   "outputs": [],
   "source": []
  },
  {
   "cell_type": "code",
   "execution_count": null,
   "metadata": {},
   "outputs": [],
   "source": []
  },
  {
   "cell_type": "code",
   "execution_count": null,
   "metadata": {},
   "outputs": [],
   "source": []
  }
 ],
 "metadata": {
  "kaggle": {
   "accelerator": "none",
   "dataSources": [
    {
     "datasetId": 4407481,
     "sourceId": 7571018,
     "sourceType": "datasetVersion"
    }
   ],
   "dockerImageVersionId": 30786,
   "isGpuEnabled": false,
   "isInternetEnabled": true,
   "language": "python",
   "sourceType": "notebook"
  },
  "kernelspec": {
   "display_name": "Python 3 (ipykernel)",
   "language": "python",
   "name": "python3"
  },
  "language_info": {
   "codemirror_mode": {
    "name": "ipython",
    "version": 3
   },
   "file_extension": ".py",
   "mimetype": "text/x-python",
   "name": "python",
   "nbconvert_exporter": "python",
   "pygments_lexer": "ipython3",
   "version": "3.9.12"
  }
 },
 "nbformat": 4,
 "nbformat_minor": 4
}
